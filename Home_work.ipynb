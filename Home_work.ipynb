{
  "cells": [
    {
      "cell_type": "markdown",
      "metadata": {
        "id": "view-in-github",
        "colab_type": "text"
      },
      "source": [
        "<a href=\"https://colab.research.google.com/github/sc45303/ahemd-repo/blob/main/Home_work.ipynb\" target=\"_parent\"><img src=\"https://colab.research.google.com/assets/colab-badge.svg\" alt=\"Open In Colab\"/></a>"
      ]
    },
    {
      "cell_type": "markdown",
      "metadata": {
        "id": "jeIhgfDbfMdQ"
      },
      "source": [
        "# 1. Using self\n",
        "**Assignment:**\n",
        "Create a class Student with attributes name and marks. Use the self keyword to initialize these values via a constructor. Add a method display() that prints student details."
      ]
    },
    {
      "cell_type": "code",
      "execution_count": null,
      "metadata": {
        "colab": {
          "base_uri": "https://localhost:8080/"
        },
        "id": "Mi-uBkFifHlC",
        "outputId": "e879b0d7-1ea7-46fc-b98c-c5a4d47e9616"
      },
      "outputs": [
        {
          "name": "stdout",
          "output_type": "stream",
          "text": [
            "name: suhail ali \n",
            "marks: 90\n",
            "name: suhail ali \n",
            "marks: 90\n",
            "name: suhail ali \n",
            "marks: 90\n"
          ]
        }
      ],
      "source": [
        "class Student:\n",
        "    def __init__(self, name , marks):\n",
        "      self.name = name\n",
        "      self.marks = marks\n",
        "\n",
        "\n",
        "    def display(self):\n",
        "      print(f\"name: {self.name}\")\n",
        "      print(f\"marks: {self.marks}\")\n",
        "\n",
        "student1_details = Student(\"suhail ali \" , 90)\n",
        "student1_details = Student(\"suhail ali \" , 90)\n",
        "student1_details = Student(\"suhail ali \" , 90)\n",
        "\n",
        "\n",
        "student1_details.display()\n",
        "student1_details.display()\n",
        "student1_details.display()\n",
        "\n"
      ]
    },
    {
      "cell_type": "markdown",
      "metadata": {
        "id": "oQxaQ22G0Y2T"
      },
      "source": [
        "#2. Using cls\n",
        "**Assignment:**\n",
        "Create a class Counter that keeps track of how many objects have been created. Use a class variable and a class method with cls to manage and display the count."
      ]
    },
    {
      "cell_type": "code",
      "execution_count": null,
      "metadata": {
        "colab": {
          "base_uri": "https://localhost:8080/"
        },
        "id": "sIjv-chB0gS5",
        "outputId": "ecfcdf51-12a9-41d7-a5f7-f052d29c27a9"
      },
      "outputs": [
        {
          "name": "stdout",
          "output_type": "stream",
          "text": [
            "total objects created 3\n"
          ]
        }
      ],
      "source": [
        "class Counter:\n",
        "  count = 0\n",
        "\n",
        "  def __init__(cls):\n",
        "    Counter.count += 1\n",
        "\n",
        "  @classmethod\n",
        "  def display_count(cls):\n",
        "    print(f\"total objects created {cls.count}\")\n",
        "\n",
        "obj1 = Counter()\n",
        "obj2 = Counter()\n",
        "obj = Counter()\n",
        "\n",
        "Counter.display_count()\n"
      ]
    },
    {
      "cell_type": "markdown",
      "metadata": {
        "id": "aeuc8sqbmaP5"
      },
      "source": [
        "#3. Public Variables and Methods\n",
        "**Assignment**:\n",
        "Create a class Car with a public variable brand and a public method start(). Instantiate the class and access both from outside the class.\n",
        "\n"
      ]
    },
    {
      "cell_type": "code",
      "execution_count": null,
      "metadata": {
        "colab": {
          "base_uri": "https://localhost:8080/"
        },
        "id": "or9ygjW2mqJ6",
        "outputId": "253ac9e2-e406-4ae8-86d0-252461c04f2d"
      },
      "outputs": [
        {
          "name": "stdout",
          "output_type": "stream",
          "text": [
            "Brand: Toyota\n",
            "Toyota car is starting...\n"
          ]
        }
      ],
      "source": [
        "class Car:\n",
        "\n",
        "  def __init__(self, brand):\n",
        "    self.brnad = brand\n",
        "\n",
        "  def start(self):\n",
        "    print(f\"{self.brnad} car is starting...\")\n",
        "\n",
        "my_car = Car(\"Toyota\")\n",
        "\n",
        "print(\"Brand:\" ,my_car.brnad)\n",
        "\n",
        "my_car.start()\n"
      ]
    },
    {
      "cell_type": "markdown",
      "metadata": {
        "id": "bDLtlByHxfhZ"
      },
      "source": [
        "4. Class Variables and Class Methods\n",
        "**Assignment:**\n",
        "Create a class Bank with a class variable bank_name. Add a class method change_bank_name(cls, name) that allows changing the bank name. Show that it affects all instances."
      ]
    },
    {
      "cell_type": "code",
      "execution_count": null,
      "metadata": {
        "colab": {
          "base_uri": "https://localhost:8080/"
        },
        "id": "nWU6e19RyKRy",
        "outputId": "145273fa-d36d-4166-d4a6-c08b4e26f535"
      },
      "outputs": [
        {
          "name": "stdout",
          "output_type": "stream",
          "text": [
            "Account Holder: Suhail, Bank: Default Bank \n",
            "Account Holder: Ali, Bank: Default Bank \n"
          ]
        }
      ],
      "source": [
        "class Bank:\n",
        "  bank_name = \"Default Bank\"\n",
        "\n",
        "  def __init__(self, account_holder):\n",
        "    self.account_holder = account_holder\n",
        "\n",
        "\n",
        "  def display(self):\n",
        "    print(f\"Account Holder: {self.account_holder}, Bank: {Bank.bank_name} \")\n",
        "\n",
        "  @classmethod\n",
        "  def change_bank_name(cls , name):\n",
        "    cls.bank_name\n",
        "\n",
        "\n",
        "acc1 = Bank(\"Suhail\")\n",
        "acc2 = Bank(\"Ali\")\n",
        "\n",
        "Bank.change_bank_name(\"Habib Bank Limited\")\n",
        "\n",
        "acc1.display()\n",
        "acc2.display()\n"
      ]
    },
    {
      "cell_type": "markdown",
      "metadata": {
        "id": "gQle9wqzFHdD"
      },
      "source": [
        "5. Static Variables and Static Methods\n",
        "Assignment:\n",
        "Create a class MathUtils with a static method add(a, b) that returns the sum. No class or instance variables should be used."
      ]
    },
    {
      "cell_type": "code",
      "execution_count": null,
      "metadata": {
        "colab": {
          "base_uri": "https://localhost:8080/"
        },
        "id": "ufzfYQQuFIt1",
        "outputId": "4d2be9ad-c340-44ae-fb33-9cbc729897a6"
      },
      "outputs": [
        {
          "name": "stdout",
          "output_type": "stream",
          "text": [
            "static method:  8\n",
            "static variable:  3.14\n"
          ]
        }
      ],
      "source": [
        "class MathUtils:\n",
        "\n",
        "  pi = 3.14\n",
        "  @staticmethod\n",
        "  def add (a, b):\n",
        "    return a+b\n",
        "\n",
        "print(\"static method: \",MathUtils.add(5,3))\n",
        "print(\"static variable: \",MathUtils.pi)\n",
        "\n"
      ]
    },
    {
      "cell_type": "markdown",
      "metadata": {
        "id": "iXcZnAkPD_q1"
      },
      "source": [
        "6. Constructors and Destructors\n",
        "Assignment:\n",
        "Create a class Logger that prints a message when an object is created (constructor) and another message when it is destroyed (destructor).\n",
        "\n",
        "7"
      ]
    },
    {
      "cell_type": "code",
      "execution_count": null,
      "metadata": {
        "colab": {
          "background_save": true
        },
        "id": "7D_eodT2EJWh",
        "outputId": "7063ddbe-30fe-4721-d5a8-582c87484090"
      },
      "outputs": [
        {
          "name": "stdout",
          "output_type": "stream",
          "text": [
            "Logger object created.\n",
            "Logger object destroyed.\n"
          ]
        }
      ],
      "source": [
        "class Logger:\n",
        "    def __init__(self):\n",
        "        print(\"Logger object created.\")\n",
        "\n",
        "    def __del__(self):\n",
        "        print(\"Logger object destroyed.\")\n",
        "\n",
        "# Usage\n",
        "log = Logger()\n",
        "del log  # Calls destructor\n"
      ]
    },
    {
      "cell_type": "markdown",
      "source": [
        "#7. Access Modifiers: Public, Private, and Protected\n",
        "**Assignment:**\n",
        "Create a class Employee with:\n",
        "\n",
        "a public variable name,\n",
        "\n",
        "a protected variable _salary, and\n",
        "\n",
        "a private variable __ssn.\n",
        "\n",
        "Try accessing all three variables from an object of the class and document what happens."
      ],
      "metadata": {
        "id": "9h9-wVTXnKp5"
      }
    },
    {
      "cell_type": "code",
      "source": [
        "class Employee:\n",
        "    def __init__(self, name, salary, ssn):\n",
        "        self.name = name           # public\n",
        "        self._salary = salary      # protected\n",
        "        self.__ssn = ssn           # private\n",
        "\n",
        "emp = Employee(\"Suhail\", 50000, \"123-45-6789\")\n",
        "\n",
        "print(\"Name (Public):\", emp.name)\n",
        "print(\"Salary (Protected):\", emp._salary)\n",
        "# print(emp.__ssn)  # ❌ Will give error\n",
        "print(\"SSN (Private):\", emp._Employee__ssn)  # ✅ Accessed via name mangling\n"
      ],
      "metadata": {
        "colab": {
          "base_uri": "https://localhost:8080/"
        },
        "id": "7Bw7T3SsnLIc",
        "outputId": "d804054a-c09c-4c75-c413-623113a7073f"
      },
      "execution_count": null,
      "outputs": [
        {
          "output_type": "stream",
          "name": "stdout",
          "text": [
            "Name (Public): Suhail\n",
            "Salary (Protected): 50000\n",
            "SSN (Private): 123-45-6789\n"
          ]
        }
      ]
    },
    {
      "cell_type": "markdown",
      "source": [
        "8. The super() Function\n",
        "Assignment:\n",
        "Create a class Person with a constructor that sets the name. Inherit a class Teacher from it, add a subject field, and use super() to call the base class constructor.\n",
        "\n"
      ],
      "metadata": {
        "id": "1Nr2fYbfoVf5"
      }
    },
    {
      "cell_type": "code",
      "source": [
        "class Person:\n",
        "    def __init__(self, name):\n",
        "        self.name = name\n",
        "\n",
        "class Teacher(Person):\n",
        "    def __init__(self, name, subject):\n",
        "        super().__init__(name)  # Call parent constructor\n",
        "        self.subject = subject\n",
        "\n",
        "t = Teacher(\"Suhail\", \"Math\")\n",
        "print(t.name, \"teaches\", t.subject)\n"
      ],
      "metadata": {
        "colab": {
          "base_uri": "https://localhost:8080/"
        },
        "id": "u2Ep51zcoyME",
        "outputId": "22a75a92-e283-4376-f4fe-8b259c6f5ab1"
      },
      "execution_count": null,
      "outputs": [
        {
          "output_type": "stream",
          "name": "stdout",
          "text": [
            "Suhail teaches Math\n"
          ]
        }
      ]
    },
    {
      "cell_type": "markdown",
      "source": [
        "9. Abstract Classes and Methods\n",
        "Assignment:\n",
        "Use the abc module to create an abstract class Shape with an abstract method area(). Inherit a class Rectangle that implements area()."
      ],
      "metadata": {
        "id": "9h7QXVp8oeg5"
      }
    },
    {
      "cell_type": "code",
      "source": [
        "from abc import ABC, abstractmethod\n",
        "\n",
        "class Shape(ABC):\n",
        "    @abstractmethod\n",
        "    def area(self):\n",
        "        pass\n",
        "\n",
        "class Rectangle(Shape):\n",
        "    def __init__(self, w, h):\n",
        "        self.w = w\n",
        "        self.h = h\n",
        "\n",
        "    def area(self):\n",
        "        return self.w * self.h\n",
        "\n",
        "r = Rectangle(4, 5)\n",
        "print(\"Area:\", r.area())\n"
      ],
      "metadata": {
        "id": "ro3bVCI9o7xV"
      },
      "execution_count": null,
      "outputs": []
    },
    {
      "cell_type": "markdown",
      "source": [
        "10. Instance Methods\n",
        "Assignment:\n",
        "Create a class Dog with instance variables name and breed. Add an instance method bark() that prints a message including the dog's name.\n",
        "\n"
      ],
      "metadata": {
        "id": "c5m1fTXLoik3"
      }
    },
    {
      "cell_type": "code",
      "source": [
        "class Dog:\n",
        "    def __init__(self, name, breed):\n",
        "        self.name = name\n",
        "        self.breed = breed\n",
        "\n",
        "    def bark(self):\n",
        "        print(f\"{self.name} is barking!\")\n",
        "\n",
        "d = Dog(\"Max\", \"Labrador\")\n",
        "d.bark()\n"
      ],
      "metadata": {
        "colab": {
          "base_uri": "https://localhost:8080/"
        },
        "id": "sOq10mUSo8Xn",
        "outputId": "15204d55-d34d-40d6-ec70-f46374c980dd"
      },
      "execution_count": null,
      "outputs": [
        {
          "output_type": "stream",
          "name": "stdout",
          "text": [
            "Max is barking!\n"
          ]
        }
      ]
    },
    {
      "cell_type": "markdown",
      "source": [
        "11. Class Methods\n",
        "Assignment:\n",
        "Create a class Book with a class variable total_books. Add a class method increment_book_count() to increase the count when a new book is added.\n",
        "\n"
      ],
      "metadata": {
        "id": "yLzw2DSCoqB9"
      }
    },
    {
      "cell_type": "code",
      "source": [
        "class Book:\n",
        "    total_books = 0\n",
        "\n",
        "    @classmethod\n",
        "    def increment_book_count(cls):\n",
        "        cls.total_books += 1\n",
        "\n",
        "Book.increment_book_count()\n",
        "Book.increment_book_count()\n",
        "print(\"Total Books:\", Book.total_books)\n"
      ],
      "metadata": {
        "id": "KXnF9QaGqDjB"
      },
      "execution_count": null,
      "outputs": []
    }
  ],
  "metadata": {
    "colab": {
      "provenance": [],
      "authorship_tag": "ABX9TyMq1EhUa6qQ6Jaoxcs1QWdj",
      "include_colab_link": true
    },
    "kernelspec": {
      "display_name": "Python 3",
      "name": "python3"
    },
    "language_info": {
      "name": "python"
    }
  },
  "nbformat": 4,
  "nbformat_minor": 0
}